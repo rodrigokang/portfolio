{
 "cells": [
  {
   "cell_type": "markdown",
   "id": "a84e3cba-eaa4-43b3-8efe-0e92d9694fa7",
   "metadata": {},
   "source": [
    "# Churn Prediction Based on RFM Scoring"
   ]
  },
  {
   "cell_type": "markdown",
   "id": "0626ea42-71a6-425c-9817-49a50ffb9ede",
   "metadata": {},
   "source": [
    "## Introduction"
   ]
  },
  {
   "cell_type": "markdown",
   "id": "02525f26-88a2-47b4-9419-d83b656739ed",
   "metadata": {},
   "source": [
    "In this project, I aim to predict customer churn for the well-known Northwind database by leveraging Recency, Frequency, and Monetary (RFM) variables along with the RFM score that I previously developed using K-Means clustering. Churn is defined as customers who belong to the 'low activity customers' category in the 'category' field, making the target variable a binary outcome. The goal is to develop and compare the performance of various Machine Learning algorithms in predicting churn, using the variables 'R', 'F', 'M', and 'score' as predictors.\n",
    "\n",
    "The following algorithms will be evaluated:\n",
    "\n",
    "- Logistic Regression\n",
    "- Naive Bayes\n",
    "- K-Nearest Neighbors (KNN)\n",
    "- Random Forest\n",
    "- Support Vector Machines (SVM)\n",
    "- Gradient Boosting\n",
    "\n",
    "Through this analysis, I aim to determine which model provides the most accurate and reliable predictions for identifying potential churners, thereby enabling more effective customer retention strategies."
   ]
  },
  {
   "cell_type": "markdown",
   "id": "c7f4125e",
   "metadata": {},
   "source": [
    "## `Python` implementation"
   ]
  },
  {
   "cell_type": "code",
   "execution_count": null,
   "id": "2e720ac8-1ebc-4336-8dcd-578ee2410eb5",
   "metadata": {},
   "outputs": [],
   "source": []
  }
 ],
 "metadata": {
  "kernelspec": {
   "display_name": "Python 3 (ipykernel)",
   "language": "python",
   "name": "python3"
  },
  "language_info": {
   "codemirror_mode": {
    "name": "ipython",
    "version": 3
   },
   "file_extension": ".py",
   "mimetype": "text/x-python",
   "name": "python",
   "nbconvert_exporter": "python",
   "pygments_lexer": "ipython3",
   "version": "3.12.4"
  }
 },
 "nbformat": 4,
 "nbformat_minor": 5
}
