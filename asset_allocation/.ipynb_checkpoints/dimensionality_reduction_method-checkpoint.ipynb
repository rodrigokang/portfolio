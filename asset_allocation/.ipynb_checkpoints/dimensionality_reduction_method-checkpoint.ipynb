{
 "cells": [
  {
   "cell_type": "markdown",
   "metadata": {},
   "source": [
    "# Asset Allocation with Unsupervised Machine Learning Techniques"
   ]
  },
  {
   "cell_type": "markdown",
   "metadata": {},
   "source": []
  },
  {
   "cell_type": "markdown",
   "metadata": {},
   "source": [
    "## Dataset Description"
   ]
  },
  {
   "cell_type": "markdown",
   "metadata": {},
   "source": []
  },
  {
   "cell_type": "markdown",
   "metadata": {},
   "source": []
  },
  {
   "cell_type": "markdown",
   "metadata": {},
   "source": []
  },
  {
   "cell_type": "markdown",
   "metadata": {
    "id": "E3AYxvET2YT2"
   },
   "source": [
    "## Principal Component Analysis (PCA)"
   ]
  },
  {
   "cell_type": "markdown",
   "metadata": {},
   "source": [
    "**James**\n",
    "\n",
    "Cuando nos enfrentamos a un gran conjunto de variables correlacionadas, los componentes principales nos permiten resumir este conjunto con un número menor de variables representativas que, en conjunto, explican la mayor parte de la variabilidad del conjunto original. Las direcciones de los componentes principales son las direcciones en el espacio de características a lo largo de las cuales los datos originales son altamente variables. Estas direcciones también definen líneas y subespacios que están lo más cerca posible de la nube de datos. Para realizar la regresión de componentes principales, simplemente usamos componentes principales como predictores en un modelo de regresión en lugar del conjunto original más grande de variables.\n",
    "\n",
    "El análisis de componentes principales (PCA) se refiere al proceso mediante el cual se calculan los componentes principales y el uso posterior de estos componentes para comprender los datos. El PCA es un enfoque no supervisado, ya que involucra solo un conjunto de características $X_1, X_2, \\dots, X_M$ y ninguna respuesta asociada Y. Además de producir variables derivadas para su uso en problemas de aprendizaje supervisado, el PCA también sirve como una herramienta para la visualización de datos (visualización de las observaciones o visualización de las variables). También se puede utilizar como herramienta para la imputación de datos, es decir, para completar valores faltantes en una matriz de datos."
   ]
  },
  {
   "cell_type": "markdown",
   "metadata": {},
   "source": []
  },
  {
   "cell_type": "markdown",
   "metadata": {},
   "source": []
  },
  {
   "cell_type": "code",
   "execution_count": null,
   "metadata": {},
   "outputs": [],
   "source": []
  },
  {
   "cell_type": "code",
   "execution_count": null,
   "metadata": {},
   "outputs": [],
   "source": []
  },
  {
   "cell_type": "code",
   "execution_count": null,
   "metadata": {},
   "outputs": [],
   "source": []
  },
  {
   "cell_type": "code",
   "execution_count": null,
   "metadata": {},
   "outputs": [],
   "source": []
  },
  {
   "cell_type": "code",
   "execution_count": null,
   "metadata": {},
   "outputs": [],
   "source": []
  }
 ],
 "metadata": {
  "colab": {
   "authorship_tag": "ABX9TyOVVglnoM60iuQb8Y59tHbX",
   "provenance": []
  },
  "kernelspec": {
   "display_name": "Python 3 (ipykernel)",
   "language": "python",
   "name": "python3"
  },
  "language_info": {
   "codemirror_mode": {
    "name": "ipython",
    "version": 3
   },
   "file_extension": ".py",
   "mimetype": "text/x-python",
   "name": "python",
   "nbconvert_exporter": "python",
   "pygments_lexer": "ipython3",
   "version": "3.11.4"
  }
 },
 "nbformat": 4,
 "nbformat_minor": 1
}
